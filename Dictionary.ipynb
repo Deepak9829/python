{
 "cells": [
  {
   "cell_type": "code",
   "execution_count": 1,
   "metadata": {},
   "outputs": [
    {
     "name": "stdout",
     "output_type": "stream",
     "text": [
      "{1: 10, 2: 20, 3: 30, 4: 40, 5: 50, 6: 60}\n"
     ]
    }
   ],
   "source": [
    "#Q4 Write a Python script to concatenate following dictionaries to create a new one.\n",
    "#Sample Dictionary : \n",
    "#dic1={1:10, 2:20} \n",
    "#dic2={3:30, 4:40} \n",
    "#dic3={5:50,6:60}\n",
    "#Expected Result : {1: 10, 2: 20, 3: 30, 4: 40, 5: 50, 6: 60}\n",
    "dic1={1:10, 2:20} \n",
    "dic2={3:30, 4:40} \n",
    "dic3={5:50, 6:60}\n",
    "dic4={}\n",
    "for i in (dic1,dic2,dic3):\n",
    "    dic4.update(i)\n",
    "print(dic4)\n",
    "\n"
   ]
  },
  {
   "cell_type": "code",
   "execution_count": 2,
   "metadata": {},
   "outputs": [
    {
     "name": "stdout",
     "output_type": "stream",
     "text": [
      "Prateek\n",
      "18\n",
      "First\n"
     ]
    }
   ],
   "source": [
    "dict = {'Name': 'Prateek', 'Age': 18, 'Class': 'First'}\n",
    "dict['Age']=18\n",
    "print(dict['Name'])\n",
    "print(dict['Age'])\n",
    "print(dict['Class']) "
   ]
  },
  {
   "cell_type": "code",
   "execution_count": 3,
   "metadata": {},
   "outputs": [
    {
     "name": "stdout",
     "output_type": "stream",
     "text": [
      "Navjeevan\n",
      "18\n"
     ]
    }
   ],
   "source": [
    "dict['School Name']='Navjeevan'\n",
    "print(dict['School Name'])\n",
    "dict['roll number']=18\n",
    "print(dict['roll number'])\n"
   ]
  },
  {
   "cell_type": "code",
   "execution_count": 4,
   "metadata": {},
   "outputs": [
    {
     "name": "stdout",
     "output_type": "stream",
     "text": [
      "{'Name': 'Prateek', 'Age': 18, 'Class': 'First', 'School Name': 'Navjeevan', 'roll number': 18}\n"
     ]
    }
   ],
   "source": [
    "dict\n",
    "print(dict)\n"
   ]
  },
  {
   "cell_type": "code",
   "execution_count": 5,
   "metadata": {},
   "outputs": [
    {
     "name": "stdout",
     "output_type": "stream",
     "text": [
      "enter a key5\n",
      "key is not present\n"
     ]
    }
   ],
   "source": [
    "#Dictionaries Assignment:-\n",
    "# 1.Write a Python script to check if a given key already exists in a dictionary. \n",
    "d={1:5,2:10,3:10,4:10}\n",
    "i=int(input(\"enter a key\"))\n",
    "if i in d:\n",
    "    print(\"key is present\")\n",
    "else:\n",
    "    print(\"key is not present\")"
   ]
  },
  {
   "cell_type": "code",
   "execution_count": 6,
   "metadata": {},
   "outputs": [
    {
     "name": "stdout",
     "output_type": "stream",
     "text": [
      "enter a number:5\n",
      "{1: 1, 2: 4, 3: 9, 4: 16, 5: 25}\n"
     ]
    }
   ],
   "source": [
    "#2.Write a Python script to generate and print a dictionary that contains a number (between 1 and n) in the form (x, x*x). \n",
    "#Sample Dictionary ( n = 5) : \n",
    "#Expected Output : {1: 1, 2: 4, 3: 9, 4: 16, 5: 25}\n",
    "\n",
    "n=int(input(\"enter a number:\"))\n",
    "d={}\n",
    "for i in range(1,n+1):\n",
    "    d[i]=i**2\n",
    "print(d)"
   ]
  },
  {
   "cell_type": "code",
   "execution_count": 7,
   "metadata": {},
   "outputs": [
    {
     "name": "stdout",
     "output_type": "stream",
     "text": [
      "{1: 10, 2: 20, 3: 30, 4: 40, 5: 50, 6: 60}\n"
     ]
    }
   ],
   "source": [
    "#3.Write a Python script to concatenate following dictionaries to create a new one.\n",
    "#Sample Dictionary : \n",
    "#dic1={1:10, 2:20} \n",
    "#dic2={3:30, 4:40} \n",
    "#dic3={5:50,6:60}\n",
    "#Expected Result : {1: 10, 2: 20, 3: 30, 4: 40, 5: 50, 6: 60}\n",
    "dict1={1:10,2:20}\n",
    "dict2={3:30,4:40}\n",
    "dict3={5:50,6:60}\n",
    "dict4={}\n",
    "for i in dict1:\n",
    "    dict4[i]=dict1[i]\n",
    "for i in dict2:\n",
    "    dict4[i]=dict2[i]\n",
    "for i in dict3:\n",
    "    dict4[i]=dict3[i]\n",
    "\n",
    "print(dict4)\n",
    "    \n"
   ]
  },
  {
   "cell_type": "code",
   "execution_count": 8,
   "metadata": {},
   "outputs": [
    {
     "name": "stdout",
     "output_type": "stream",
     "text": [
      "{1: 'kohli', 2: 'prateek', 3: 'pratees', 4: 'saxena', 5: 'virat'}\n"
     ]
    }
   ],
   "source": [
    "#4.Write a Python script to sort (ascending and descending) a dictionary by value.\n",
    "d={1:\"kohli\",2:\"saxena\", 3:\"virat\", 4:\"prateek\",5:\"pratees\"}\n",
    "for i in d:\n",
    "    for j in range(i+1,len(d)+1):\n",
    "        if d[i]>d[j]:\n",
    "            temp=d[i]\n",
    "            d[i]=d[j]\n",
    "            d[j]=temp\n",
    "print(d)\n",
    "        \n",
    "    "
   ]
  },
  {
   "cell_type": "code",
   "execution_count": 9,
   "metadata": {},
   "outputs": [
    {
     "name": "stdout",
     "output_type": "stream",
     "text": [
      "{'a': 400, 'b': 400}\n"
     ]
    }
   ],
   "source": [
    "#5.\n",
    "##Write a Python program to combine two dictionary adding values for common keys.\n",
    "#dict1 = {'a': 100, 'b': 200, 'c':300}\n",
    "#dict2 = {'a': 300, 'b': 200, 'd':400}\n",
    "#Sample output: Counter({'a': 400, 'b': 400, 'd': 400, 'c': 300})\n",
    "dict1 = {'a': 100, 'b': 200, 'c':300}\n",
    "dict2 = {'a': 300, 'b': 200, 'd':400}\n",
    "dict3={}\n",
    "for i in dict2:\n",
    "    if i in dict1:\n",
    "        dict3[i]=dict1[i]+dict2[i]\n",
    "print(dict3)\n",
    "        \n",
    "\n"
   ]
  },
  {
   "cell_type": "code",
   "execution_count": 10,
   "metadata": {},
   "outputs": [
    {
     "name": "stdout",
     "output_type": "stream",
     "text": [
      "500\n"
     ]
    }
   ],
   "source": [
    "#6.Write a Python program to sum all the items in a dictionary.\n",
    "d={'a':100,'b':200,'c':200}\n",
    "sum=0\n",
    "for i in d:\n",
    "    sum=sum+d[i]\n",
    "print(sum)\n",
    "    \n",
    " \n",
    "    \n",
    "    \n"
   ]
  },
  {
   "cell_type": "code",
   "execution_count": 21,
   "metadata": {},
   "outputs": [],
   "source": [
    "#10.Write a Python program to create a dictionary from a string.\n",
    "#Note: Track the count of the letters from the string.\n",
    "#Sample string : 'w3resource'\n",
    "#Expected output: {'3': 1, 's': 1, 'r': 2, 'u': 1, 'w': 1, 'c': 1, 'e': 2,}\n",
    "\n",
    "str='w3resource'\n",
    "\n",
    "\n",
    "\n",
    "\n"
   ]
  },
  {
   "cell_type": "code",
   "execution_count": 6,
   "metadata": {},
   "outputs": [
    {
     "name": "stdout",
     "output_type": "stream",
     "text": [
      "ac\n",
      "ad\n",
      "bc\n",
      "bd\n"
     ]
    }
   ],
   "source": [
    "#9.Write a Python program to create and display all combinations of letters, selecting each letter from a different key in a dictionary. \n",
    "#Sample data : {'1':['a','b'], '2':['c','d']}\n",
    "#Expected Output: \n",
    "#ac,ad,bc,bd\n",
    "d1={'1':['a','b'], '2':['c','d']}\n",
    "d3=[]\n",
    "for i in d1:\n",
    "    d3.append(d1[i])\n",
    "for i in range(len(d3)):\n",
    "    for j in range(len(d3)):\n",
    "        d4=d3[0][i]+d3[1][j]\n",
    "        print(d4)\n",
    "    "
   ]
  },
  {
   "cell_type": "code",
   "execution_count": null,
   "metadata": {
    "collapsed": true
   },
   "outputs": [],
   "source": []
  }
 ],
 "metadata": {
  "kernelspec": {
   "display_name": "Python 3",
   "language": "python",
   "name": "python3"
  },
  "language_info": {
   "codemirror_mode": {
    "name": "ipython",
    "version": 3
   },
   "file_extension": ".py",
   "mimetype": "text/x-python",
   "name": "python",
   "nbconvert_exporter": "python",
   "pygments_lexer": "ipython3",
   "version": "3.6.9"
  }
 },
 "nbformat": 4,
 "nbformat_minor": 2
}
