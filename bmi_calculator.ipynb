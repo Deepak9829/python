{
 "cells": [
  {
   "cell_type": "code",
   "execution_count": 3,
   "metadata": {},
   "outputs": [
    {
     "name": "stdout",
     "output_type": "stream",
     "text": [
      "weight in kilogram:50\n",
      "height in meters:6.2\n",
      "1.3007284079084287\n"
     ]
    }
   ],
   "source": [
    "#Adult Body Mass Index calculater.\n",
    "\n",
    "W=float(input(\"weight in kilogram:\"))\n",
    "H=float(input(\"height in meters:\"))\n",
    "C=W/H\n",
    "BMI=C/H\n",
    "print(BMI)"
   ]
  }
 ],
 "metadata": {
  "kernelspec": {
   "display_name": "Python 3",
   "language": "python",
   "name": "python3"
  },
  "language_info": {
   "codemirror_mode": {
    "name": "ipython",
    "version": 3
   },
   "file_extension": ".py",
   "mimetype": "text/x-python",
   "name": "python",
   "nbconvert_exporter": "python",
   "pygments_lexer": "ipython3",
   "version": "3.7.1"
  }
 },
 "nbformat": 4,
 "nbformat_minor": 2
}
