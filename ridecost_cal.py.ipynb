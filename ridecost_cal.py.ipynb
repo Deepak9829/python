{
 "cells": [
  {
   "cell_type": "code",
   "execution_count": 3,
   "metadata": {},
   "outputs": [
    {
     "name": "stdout",
     "output_type": "stream",
     "text": [
      "distance traveled by person in a day: 80\n",
      "cost of disel80\n",
      "fuel average18\n",
      "355.55555555555554\n"
     ]
    }
   ],
   "source": [
    "# ride cost calculator\n",
    "distance=float(input(\"distance traveled by person in a day: \"))\n",
    "cost=float(input(\"cost of disel\"))\n",
    "Fuel_Avg=float(input(\"fuel average\"))\n",
    "Cost_of_driving_per_day=(distance/Fuel_Avg)*cost\n",
    "print(Cost_of_driving_per_day)"
   ]
  }
 ],
 "metadata": {
  "kernelspec": {
   "display_name": "Python 3",
   "language": "python",
   "name": "python3"
  },
  "language_info": {
   "codemirror_mode": {
    "name": "ipython",
    "version": 3
   },
   "file_extension": ".py",
   "mimetype": "text/x-python",
   "name": "python",
   "nbconvert_exporter": "python",
   "pygments_lexer": "ipython3",
   "version": "3.7.1"
  }
 },
 "nbformat": 4,
 "nbformat_minor": 2
}
