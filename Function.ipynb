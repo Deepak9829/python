{
 "cells": [
  {
   "cell_type": "code",
   "execution_count": 8,
   "metadata": {
    "collapsed": false
   },
   "outputs": [],
   "source": [
    "def square(): \n",
    "    x=[1,2,3,4,5]\n",
    "    l1=[]\n",
    "    for item in x:\n",
    "        square(x)\n",
    "        print(l1)\n"
   ]
  },
  {
   "cell_type": "code",
   "execution_count": 1,
   "metadata": {
    "collapsed": false
   },
   "outputs": [],
   "source": [
    "#2. Write a Python function to insert a string in the middle of a string.\n",
    "#Sample function and result : \n",
    "#insert_sting_middle('[[]]<<>>', 'Python') -> [[Python]]\n",
    "#insert_sting_middle('{{}}', 'PHP') -> {{PHP}}\n",
    "\n",
    "def insert_string_middle(name,sname):\n",
    "    print('[['+name+']]')\n",
    "    print('{{'+sname+'}}')\n",
    "    \n"
   ]
  },
  {
   "cell_type": "code",
   "execution_count": 3,
   "metadata": {
    "collapsed": false
   },
   "outputs": [
    {
     "name": "stdout",
     "output_type": "stream",
     "text": [
      "[[python]]\n",
      "{{php}}\n"
     ]
    }
   ],
   "source": [
    "insert_string_middle(\"python\",\"php\")"
   ]
  },
  {
   "cell_type": "code",
   "execution_count": 18,
   "metadata": {
    "collapsed": false
   },
   "outputs": [
    {
     "name": "stdout",
     "output_type": "stream",
     "text": [
      "enter a name:vira\n",
      "ariv\n"
     ]
    }
   ],
   "source": [
    "#4.Write a Python function to reverses a string if it's length is a multiple of 4.\n",
    "def reverse():\n",
    "    t=input(\"enter a name:\")\n",
    "    if(len(t)%4==0):\n",
    "        print(t[::-1])\n",
    "    else:\n",
    "        print(\"not multiply by 4\")\n",
    "reverse()"
   ]
  },
  {
   "cell_type": "code",
   "execution_count": 18,
   "metadata": {
    "collapsed": false
   },
   "outputs": [
    {
     "name": "stdout",
     "output_type": "stream",
     "text": [
      "not pangram\n"
     ]
    }
   ],
   "source": [
    "#Write a Python function to check whether a string is a pangram or not. \n",
    "#Note : Pangrams are words or sentences containing every letter of the alphabet at least once.\n",
    "#For example : \"The quick brown fox jumps over the lazy dog\" \n",
    "def pangram():\n",
    "    n=\"The quick brown fox jumps over the lazy cat\"\n",
    "    t=\"qwertyuiopasdfghjklzxvbcnm\"\n",
    "    for i in t:\n",
    "        if i not in n:\n",
    "            print(\"not pangram\")\n",
    "            break\n",
    "    else:\n",
    "        print(\"pangram\")\n",
    "pangram()\n",
    "        \n",
    "\n",
    "    "
   ]
  },
  {
   "cell_type": "code",
   "execution_count": 40,
   "metadata": {
    "collapsed": false
   },
   "outputs": [
    {
     "name": "stdout",
     "output_type": "stream",
     "text": [
      "black-green-red-white-yellow\n"
     ]
    }
   ],
   "source": [
    "#Write a Python program that accepts a hyphen-separated sequence of words as input\n",
    "#and prints the words in a hyphen-separated sequence after sorting them alphabetically. \n",
    "#Sample Items : green-red-yellow-black-white\n",
    "#Expected Result : black-green-red-white-yellow.\n",
    "def sort():\n",
    "    s='green-red-yellow-black-white'\n",
    "    s=s.split('-')\n",
    "    for i in range (0,len(s)):\n",
    "        for j in range(i+1,len(s)):\n",
    "            if s[i]>s[j]:\n",
    "                temp=s[i]\n",
    "                s[i]=s[j]\n",
    "                s[j]=temp\n",
    "    print('-'.join(s))\n",
    "sort()\n",
    "        "
   ]
  },
  {
   "cell_type": "code",
   "execution_count": null,
   "metadata": {
    "collapsed": true
   },
   "outputs": [],
   "source": []
  }
 ],
 "metadata": {
  "kernelspec": {
   "display_name": "Python 3",
   "language": "python",
   "name": "python3"
  }
 },
 "nbformat": 4,
 "nbformat_minor": 2
}
