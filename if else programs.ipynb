{
 "cells": [
  {
   "cell_type": "code",
   "execution_count": 1,
   "metadata": {},
   "outputs": [
    {
     "name": "stdout",
     "output_type": "stream",
     "text": [
      "enter a number47\n",
      "the number is odd\n"
     ]
    }
   ],
   "source": [
    "#1.Write a python program to check the number is even or odd.\n",
    "i=int(input(\"enter a number\"))\n",
    "if(i%2==0):\n",
    "    print(\"the number is even\")\n",
    "else:\n",
    "    print(\"the number is odd\")"
   ]
  },
  {
   "cell_type": "code",
   "execution_count": 2,
   "metadata": {},
   "outputs": [
    {
     "name": "stdout",
     "output_type": "stream",
     "text": [
      "enter a number5\n",
      "the number is positive 5\n"
     ]
    }
   ],
   "source": [
    "#2.Write a python program to check the whether number is Positive or Negative or not.\n",
    "i=int(input(\"enter a number\"))\n",
    "num=i\n",
    "if(num>0):\n",
    "    print(\"the number is positive\",num)\n",
    "elif(num==0):\n",
    "    print(\"the number is zero\",num)\n",
    "else:\n",
    "    print(\"the number is negative\",num)"
   ]
  },
  {
   "cell_type": "code",
   "execution_count": 3,
   "metadata": {},
   "outputs": [
    {
     "name": "stdout",
     "output_type": "stream",
     "text": [
      "enter a year2020\n",
      "the year is  a leap year 2020\n"
     ]
    }
   ],
   "source": [
    "#3.Write a python program to check a Leap Year or not.\n",
    "year=int(input(\"enter a year\"))\n",
    "if (year%4==0):\n",
    "    if(year%100==0):\n",
    "        if(year%400==0):\n",
    "            print(\"the year is leap year\",year)\n",
    "        else:\n",
    "            print(\"the year is not a leap year\",year)\n",
    "    else:\n",
    "        print(\"the year is  a leap year\",year)\n",
    "else:\n",
    "    print(\"the year is not a leap year\")\n",
    "    \n",
    "    "
   ]
  },
  {
   "cell_type": "code",
   "execution_count": 4,
   "metadata": {},
   "outputs": [
    {
     "name": "stdout",
     "output_type": "stream",
     "text": [
      "enter the first number:45\n",
      "enter the second number:60\n",
      "enter the third number:70\n",
      "the largest number 45 60 70 is 70\n"
     ]
    }
   ],
   "source": [
    "#4.Write a python program to find the Largest Among Three Numbers.\n",
    "num1=int(input(\"enter the first number:\"))\n",
    "num2=int(input(\"enter the second number:\"))\n",
    "num3=int(input(\"enter the third number:\"))\n",
    "if(num1>=num2) and(num1>=num3):\n",
    "    largest=num1\n",
    "elif(num2>=num3)and(num2>=num1):\n",
    "    largest=num2\n",
    "else:\n",
    "    largest=num3\n",
    "print(\"the largest number\",num1,num2,num3,\"is\",largest)"
   ]
  },
  {
   "cell_type": "code",
   "execution_count": 8,
   "metadata": {},
   "outputs": [
    {
     "name": "stdout",
     "output_type": "stream",
     "text": [
      "enter a lower range100\n",
      "enter a upper range500\n",
      "105\n",
      "140\n",
      "175\n",
      "210\n",
      "245\n",
      "280\n",
      "315\n",
      "350\n",
      "385\n",
      "420\n",
      "455\n",
      "490\n"
     ]
    }
   ],
   "source": [
    "#5.Write a python program to find those numbers which are divisible by 7 and multiply of 5.\n",
    "x=int(input(\"enter a lower range\"))\n",
    "y=int(input(\"enter a upper range\"))\n",
    "for i in range(x,y+1):\n",
    "    if(i%7==0) and (i%5==0):\n",
    "        print(i)\n",
    "    \n",
    "            "
   ]
  },
  {
   "cell_type": "code",
   "execution_count": null,
   "metadata": {},
   "outputs": [],
   "source": []
  }
 ],
 "metadata": {
  "kernelspec": {
   "display_name": "Python 3",
   "language": "python",
   "name": "python3"
  },
  "language_info": {
   "codemirror_mode": {
    "name": "ipython",
    "version": 3
   },
   "file_extension": ".py",
   "mimetype": "text/x-python",
   "name": "python",
   "nbconvert_exporter": "python",
   "pygments_lexer": "ipython3",
   "version": "3.7.1"
  }
 },
 "nbformat": 4,
 "nbformat_minor": 2
}
