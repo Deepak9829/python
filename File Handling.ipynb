{
 "cells": [
  {
   "cell_type": "code",
   "execution_count": 1,
   "metadata": {
    "collapsed": true
   },
   "outputs": [],
   "source": [
    "with open('data.txt','w') as f:\n",
    "    data='my name is prateek'\n",
    "    f.write(data)"
   ]
  },
  {
   "cell_type": "code",
   "execution_count": 2,
   "metadata": {
    "collapsed": true
   },
   "outputs": [],
   "source": [
    "#Q.1. Write a python program to read an entire text file.\n",
    "\n",
    "with open('data.txt','r') as f:\n",
    "    data=f.read()"
   ]
  },
  {
   "cell_type": "code",
   "execution_count": 3,
   "metadata": {
    "collapsed": false
   },
   "outputs": [
    {
     "name": "stdout",
     "output_type": "stream",
     "text": [
      "my name is prateek\n"
     ]
    }
   ],
   "source": [
    "print(data)"
   ]
  },
  {
   "cell_type": "code",
   "execution_count": 4,
   "metadata": {
    "collapsed": false
   },
   "outputs": [],
   "source": [
    "#Q.2. Write a python program to append text to a file and display the next.\n",
    "with open('data.txt','w') as f:\n",
    "    data='my name is saxena'\n",
    "    f.write(data)\n",
    "with open('data.txt','a') as f:\n",
    "    data='my name is saxena'\n",
    "    f.write(data)\n",
    "with open('data.txt','r') as f:\n",
    "    data=f.read()"
   ]
  },
  {
   "cell_type": "code",
   "execution_count": 5,
   "metadata": {
    "collapsed": false
   },
   "outputs": [
    {
     "name": "stdout",
     "output_type": "stream",
     "text": [
      "my name is saxenamy name is saxena\n"
     ]
    }
   ],
   "source": [
    "print(data)"
   ]
  },
  {
   "cell_type": "code",
   "execution_count": 8,
   "metadata": {
    "collapsed": false
   },
   "outputs": [
    {
     "name": "stdout",
     "output_type": "stream",
     "text": [
      "['my', 'name', 'is', 'prateek']\n"
     ]
    }
   ],
   "source": [
    "#Q.3.Write a python program to read a file line by line and store.\n",
    "def store():\n",
    "    with open('data.txt','w') as f:\n",
    "        data='my name is prateek'\n",
    "        f.write(data)\n",
    "with open('data.txt','r') as f:\n",
    "    data=f.read()\n",
    "    l=[]\n",
    "    l.append(data)\n",
    "    l=data.split()\n",
    "print(l)\n",
    "store()"
   ]
  },
  {
   "cell_type": "code",
   "execution_count": 10,
   "metadata": {
    "collapsed": false
   },
   "outputs": [
    {
     "name": "stdout",
     "output_type": "stream",
     "text": [
      "prateek\n"
     ]
    }
   ],
   "source": [
    "#Q.4.Write a python program to find the longest words.\n",
    "\n",
    "def store():\n",
    "    with open('data.txt','w') as f:\n",
    "        data='my name is prateek'\n",
    "        f.write(data)\n",
    "with open('data.txt','r') as f:\n",
    "    data=f.read()\n",
    "l=data.split(' ')\n",
    "l1=[]\n",
    "for i in l:\n",
    "    for j in l:\n",
    "        if len(i)>len(l):\n",
    "            l1.append(i)\n",
    "print(i)\n",
    "store()\n"
   ]
  },
  {
   "cell_type": "code",
   "execution_count": 20,
   "metadata": {
    "collapsed": false
   },
   "outputs": [],
   "source": [
    "#5.1.\n",
    "with open('dss.txt','w') as f:\n",
    "    dss='i am kohli'\n",
    "    f.write(dss)\n"
   ]
  },
  {
   "cell_type": "code",
   "execution_count": 25,
   "metadata": {
    "collapsed": false
   },
   "outputs": [],
   "source": [
    "#5.2\n",
    "with open('dpp.txt','w') as f:\n",
    "    dpp='and i am best player in the whole world'\n",
    "    f.write(dpp)"
   ]
  },
  {
   "cell_type": "code",
   "execution_count": 26,
   "metadata": {
    "collapsed": false
   },
   "outputs": [
    {
     "name": "stdout",
     "output_type": "stream",
     "text": [
      "i am kohli and i am best player in the whole world\n"
     ]
    }
   ],
   "source": [
    "#Q.5.3.Write a python program to combine each line from first file with the corresponding line in second file.\n",
    "def file1():\n",
    "    with open('dss.txt','w') as f:\n",
    "        dss='i am kohli'\n",
    "        f.write(dss)\n",
    "with open('dss.txt','r') as f:\n",
    "    dss='i am kohli'\n",
    "    dss=f.read()\n",
    "file1()\n",
    "def file2():\n",
    "    with open('dpp.txt','w') as f:\n",
    "        dpp='and i am best player in the whole world'\n",
    "        f.write(dpp)\n",
    "with open('dpp.txt','r') as f:\n",
    "    dpp='and i am best player in the whole world'\n",
    "    dpp=f.read()\n",
    "file2()\n",
    "print(dss+' '+dpp)"
   ]
  },
  {
   "cell_type": "code",
   "execution_count": 32,
   "metadata": {
    "collapsed": false
   },
   "outputs": [
    {
     "name": "stdout",
     "output_type": "stream",
     "text": [
      "i am kohli and i am best\n"
     ]
    }
   ],
   "source": [
    "#Q.6.Write a python program to remove newline characters from a file.\n",
    "with open('dsp.txt','w') as f:\n",
    "    dsp='i am kohli and i am best'\n",
    "    f.write(dsp)\n",
    "import os, sys\n",
    "os.remove('dsp.txt')\n",
    "print(dsp)"
   ]
  },
  {
   "cell_type": "code",
   "execution_count": 38,
   "metadata": {
    "collapsed": false
   },
   "outputs": [
    {
     "name": "stdout",
     "output_type": "stream",
     "text": [
      "['prateek', 'virat', 'kohli']\n"
     ]
    }
   ],
   "source": [
    "#Q.7.Write a python program to write a list to a file.\n",
    "l=['prateek','virat','kohli']\n",
    "str=(' '.join(l))\n",
    "with open('data.txt','w') as f:\n",
    "    f.write(str)\n",
    "with open('data.txt','r') as f:\n",
    "    str=f.read()\n",
    "    print(str.split(' '))\n",
    " "
   ]
  },
  {
   "cell_type": "code",
   "execution_count": null,
   "metadata": {
    "collapsed": true
   },
   "outputs": [],
   "source": [
    "#Q.8.Write a python program to get the file size of a plain file."
   ]
  }
 ],
 "metadata": {
  "kernelspec": {
   "display_name": "Python 3",
   "language": "python",
   "name": "python3"
  },
  "language_info": {
   "codemirror_mode": {
    "name": "ipython",
    "version": 3
   },
   "file_extension": ".py",
   "mimetype": "text/x-python",
   "name": "python",
   "nbconvert_exporter": "python",
   "pygments_lexer": "ipython3",
   "version": "3.6.0"
  }
 },
 "nbformat": 4,
 "nbformat_minor": 2
}
