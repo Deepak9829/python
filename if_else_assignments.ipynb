{
 "cells": [
  {
   "cell_type": "code",
   "execution_count": 1,
   "metadata": {},
   "outputs": [
    {
     "name": "stdout",
     "output_type": "stream",
     "text": [
      "deepak singodiya\n"
     ]
    }
   ],
   "source": [
    "#if condition is true then print output\n",
    "deepak=100\n",
    "if(deepak==100):\n",
    "    print(\"deepak singodiya\")"
   ]
  },
  {
   "cell_type": "code",
   "execution_count": 4,
   "metadata": {},
   "outputs": [
    {
     "name": "stdout",
     "output_type": "stream",
     "text": [
      "300\n",
      "deepak\n"
     ]
    }
   ],
   "source": [
    "#if condition is true\n",
    "x=100\n",
    "y=200\n",
    "if(x==100):\n",
    "    z=x+y\n",
    "    print(z)\n",
    "    print(\"deepak\")\n",
    "else:\n",
    "    print(\"rahul\")"
   ]
  },
  {
   "cell_type": "code",
   "execution_count": null,
   "metadata": {},
   "outputs": [],
   "source": [
    "# even odd program\n",
    "x=int(input(\"enter a value\"))\n",
    "if(x%2==0):\n",
    "    print(\"even\")\n",
    "else:\n",
    "    print(\"odd\")"
   ]
  },
  {
   "cell_type": "code",
   "execution_count": null,
   "metadata": {},
   "outputs": [],
   "source": [
    "#Take values of length and breadth of a rectangle from user and \n",
    "#check if it is square or not.\n",
    "l=int(input(\"enter length of rectangle : \"))\n",
    "b=int(input(\"enter breath of tectangle :\"))\n",
    "if(l==b):\n",
    "    print(\"is square\")\n",
    "else:\n",
    "    print(\"is rectangle\")"
   ]
  },
  {
   "cell_type": "code",
   "execution_count": 13,
   "metadata": {},
   "outputs": [
    {
     "name": "stdout",
     "output_type": "stream",
     "text": [
      "enter value a5\n",
      "enter value b5\n",
      "both are equals\n"
     ]
    }
   ],
   "source": [
    "#Take two int values from user and print greatest among them.\n",
    "a=int(input(\"enter value a :\"))\n",
    "b=int(input(\"enter value b :\"))\n",
    "if(a>b):\n",
    "    print(a)\n",
    "elif(b>a):\n",
    "    print(b)\n",
    "else:\n",
    "    print(\"both are equals\")"
   ]
  },
  {
   "cell_type": "code",
   "execution_count": 22,
   "metadata": {},
   "outputs": [
    {
     "name": "stdout",
     "output_type": "stream",
     "text": [
      "enter quantity of item =  1100\n",
      "enter cost of item per unit =  100\n",
      "given discount by shopkeeper=  10\n",
      "total cost= 110000\n",
      "cost of user= 99000.0\n"
     ]
    }
   ],
   "source": [
    "# ( A shop will give discount of 10% if the cost of purchased quantity\n",
    "# is more than 1000.\n",
    "#  Ask user for quantity\n",
    "#  Suppose, one unit will cost 100.\n",
    "#  Judge and print total cost for user.)\n",
    "a=int(input(\"enter quantity of item =  \"))\n",
    "b=int(input(\"enter cost of item per unit =  \"))\n",
    "c=int(input(\"given discount by shopkeeper=  \"))\n",
    "p=a*b\n",
    "f=p/10\n",
    "g=p-f\n",
    "print(\"total cost=\",p)\n",
    "if(a>1000):\n",
    "    print(\"cost of user=\",g)\n",
    "else:\n",
    "    print(\"quantity is less\")\n"
   ]
  },
  {
   "cell_type": "code",
   "execution_count": 30,
   "metadata": {},
   "outputs": [
    {
     "name": "stdout",
     "output_type": "stream",
     "text": [
      "enter the salary of employee 10000\n",
      "enter the year of service 6\n",
      "bonus 500.0\n"
     ]
    }
   ],
   "source": [
    "# A company decided to give bonus of 5% to employee if his/her year of \n",
    "# service is more than 5 years.\n",
    "# Ask user for their salary and year of service and print the net bonus amount.\n",
    "a=int(input(\"enter the salary of employee \"))\n",
    "b=int(input(\"enter the year of service \"))\n",
    "w=a*(5/100)\n",
    "if(b>5):\n",
    "    print(\"bonus\",w)"
   ]
  },
  {
   "cell_type": "code",
   "execution_count": 36,
   "metadata": {},
   "outputs": [
    {
     "name": "stdout",
     "output_type": "stream",
     "text": [
      "enter the marks72\n",
      "B\n"
     ]
    }
   ],
   "source": [
    "# A school has following rules for grading system:\n",
    "# a. Below 25 - F\n",
    "# b. 25 to 45 - E\n",
    "# c. 45 to 50 - D\n",
    "# d. 50 to 60 - C\n",
    "# e. 60 to 80 - B\n",
    "# f. Above 80 - A\n",
    "# Ask user to enter marks and print the corresponding grade.\n",
    "a=int(input(\"enter the marks\"))\n",
    "if(a<=25):\n",
    "    print('F')\n",
    "elif(45>=a>25):\n",
    "    print('E')\n",
    "elif(50>=a>45):\n",
    "    print('D')\n",
    "elif(60>=a>50):\n",
    "    print('C')\n",
    "elif(80>=a>60):\n",
    "    print('B')\n",
    "else:\n",
    "    print('A')\n",
    "\n"
   ]
  },
  {
   "cell_type": "code",
   "execution_count": 45,
   "metadata": {},
   "outputs": [
    {
     "name": "stdout",
     "output_type": "stream",
     "text": [
      "enter age p1 98\n",
      "enter age p2 95\n",
      "enter age p3 25\n",
      "oldest 98\n",
      "youngest 25\n"
     ]
    }
   ],
   "source": [
    "# Take input of age of 3 people by user and determine \n",
    "# oldest and youngest among them.\n",
    "p1=int(input(\"enter age p1 \"))\n",
    "p2=int(input(\"enter age p2 \"))\n",
    "p3=int(input(\"enter age p3 \"))\n",
    "if(p1>=p2 and p1>=p3):\n",
    "    print(\"oldest\",p1)\n",
    "    \n",
    "elif(p2>=p1 and p2>=p3):\n",
    "    print(\"oldest\",p2)\n",
    "elif(p3>=p1 and p3>=p2):\n",
    "    print(\"oldest\",p3)\n",
    "else:\n",
    "    print(\"youngest\")\n",
    "if(p1<=p2 and p1<=p3):\n",
    "    print(\"youngest\",p1)\n",
    "    \n",
    "elif(p2<=p1 and p2<=p3):\n",
    "    print(\"youngest\",p2)\n",
    "elif(p3<=p1 and p3<=p2):\n",
    "    print(\"youngest\",p3)\n",
    "else:\n",
    "    print(\"oldest\")\n",
    "    \n",
    "\n",
    "\n",
    "\n"
   ]
  },
  {
   "cell_type": "code",
   "execution_count": null,
   "metadata": {},
   "outputs": [],
   "source": [
    "# Write a program to print absolute vlaue of a number entered by user. E.g.-\n",
    "# INPUT: 1        OUTPUT: 1\n",
    "# INPUT: -1        OUTPUT: 1\n",
    "a=int(input(\"enter a number\"))\n",
    "if(a<0):\n",
    "    print(a*-1)\n",
    "else:\n",
    "    print(a)"
   ]
  },
  {
   "cell_type": "code",
   "execution_count": null,
   "metadata": {},
   "outputs": [],
   "source": [
    "pwd"
   ]
  },
  {
   "cell_type": "code",
   "execution_count": null,
   "metadata": {},
   "outputs": [],
   "source": []
  }
 ],
 "metadata": {
  "kernelspec": {
   "display_name": "Python 3",
   "language": "python",
   "name": "python3"
  },
  "language_info": {
   "codemirror_mode": {
    "name": "ipython",
    "version": 3
   },
   "file_extension": ".py",
   "mimetype": "text/x-python",
   "name": "python",
   "nbconvert_exporter": "python",
   "pygments_lexer": "ipython3",
   "version": "3.7.1"
  }
 },
 "nbformat": 4,
 "nbformat_minor": 2
}
